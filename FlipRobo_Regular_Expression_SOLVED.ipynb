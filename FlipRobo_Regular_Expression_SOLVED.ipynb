{
 "cells": [
  {
   "cell_type": "markdown",
   "id": "6bf6d1b9",
   "metadata": {},
   "source": [
    "# Regular Expression"
   ]
  },
  {
   "cell_type": "markdown",
   "id": "67d67b84",
   "metadata": {},
   "source": [
    "### Question 1"
   ]
  },
  {
   "cell_type": "markdown",
   "id": "e4c2b2cc",
   "metadata": {},
   "source": [
    "Write a Python program to replace all occurrences of a space, comma, or dot with a colon.\n",
    "Sample Text- `Python Exercises, PHP exercises.`\n",
    "Expected Output: `Python:Exercises::PHP:exercises:`\n"
   ]
  },
  {
   "cell_type": "code",
   "execution_count": 2,
   "id": "e1eb560a",
   "metadata": {},
   "outputs": [
    {
     "name": "stdout",
     "output_type": "stream",
     "text": [
      "Python:Exercises::PHP:exercises:\n"
     ]
    }
   ],
   "source": [
    "def replace_chars(text):\n",
    "    for char in [' ', ',', '.']:\n",
    "        text = text.replace(char, ':')\n",
    "    return text\n",
    "\n",
    "# Example usage\n",
    "sample_text = 'Python Exercises, PHP exercises.'\n",
    "output = replace_chars(sample_text)\n",
    "print(output)  "
   ]
  },
  {
   "cell_type": "markdown",
   "id": "0ee17fe6",
   "metadata": {},
   "source": [
    "### Question 2"
   ]
  },
  {
   "cell_type": "markdown",
   "id": "a34c2286",
   "metadata": {},
   "source": [
    "Create a dataframe using the dictionary below and remove everything (commas (,), !, XXXX, ;, etc.) from the columns except words.\n",
    "\n",
    "Dictionary- {'SUMMARY' : ['hello, world!', 'XXXXX test', '123four, five:; six...']}\n",
    "\n",
    "Expected output-\n",
    "\n",
    "`0      hello world`\n",
    "\n",
    "`1             test`\n",
    "\n",
    "`2    four five six`\n",
    "\n"
   ]
  },
  {
   "cell_type": "code",
   "execution_count": 133,
   "id": "bf0fe1da",
   "metadata": {},
   "outputs": [
    {
     "name": "stdout",
     "output_type": "stream",
     "text": [
      "0     hello world\n",
      "1     test\n",
      "2     four five six\n"
     ]
    }
   ],
   "source": [
    "import pandas as pd\n",
    "\n",
    "# The Dictionary\n",
    "data = {'SUMMARY': ['hello, world!', 'XXXXX test', '123four, five:; six...']}\n",
    "\n",
    "# Creating the DataFrame\n",
    "df = pd.DataFrame(data)\n",
    "\n",
    "# Remove occurrences of 'XXXXX' or similar patterns\n",
    "df['SUMMARY'] = df['SUMMARY'].str.replace(r'\\bX+\\b', '', regex=True)\n",
    "\n",
    "# Cleaning the text by removing everything except the words\n",
    "df['SUMMARY'] = df['SUMMARY'].str.replace(r'[^a-zA-Z\\s]', '', regex=True)\n",
    "\n",
    "# Normalizing the spaces\n",
    "df['SUMMARY'] = df['SUMMARY'].str.strip().str.replace(r'\\s+', ' ', regex=True)\n",
    "\n",
    "# Print each cleaned summary with the correct formatting\n",
    "for index, summary in enumerate(df['SUMMARY']):\n",
    "    print(f\"{index:<5} {summary}\")\n",
    "\n"
   ]
  },
  {
   "cell_type": "markdown",
   "id": "4a778d98",
   "metadata": {},
   "source": [
    "### Question 3"
   ]
  },
  {
   "cell_type": "markdown",
   "id": "3f519345",
   "metadata": {},
   "source": [
    "Create a function in python to find all words that are at least 4 characters long in a string. The use of the `re.compile()` method is mandatory."
   ]
  },
  {
   "cell_type": "code",
   "execution_count": 10,
   "id": "cdc170b1",
   "metadata": {},
   "outputs": [
    {
     "name": "stdout",
     "output_type": "stream",
     "text": [
      "['trying', 'compile', 'function', 'with', 'this', 'code']\n"
     ]
    }
   ],
   "source": [
    "import re\n",
    "\n",
    "def find_long_words(text):\n",
    "    # The code below Compiles a regular expression to output only words of at least 4 characters\n",
    "    pattern = re.compile(r'\\b\\w{4,}\\b')\n",
    "    return pattern.findall(text)\n",
    "\n",
    "# This is an example\n",
    "text = \"I am trying out re-compile function with this code.\"\n",
    "print(find_long_words(text)) "
   ]
  },
  {
   "cell_type": "code",
   "execution_count": null,
   "id": "230ab1e8",
   "metadata": {},
   "outputs": [],
   "source": []
  },
  {
   "cell_type": "markdown",
   "id": "c71903bd",
   "metadata": {},
   "source": [
    "### Question 4"
   ]
  },
  {
   "cell_type": "markdown",
   "id": "88aa4915",
   "metadata": {},
   "source": [
    "Create a function in python to find all three, four, and five character words in a string. The use of the `re.compile()` method is mandatory."
   ]
  },
  {
   "cell_type": "code",
   "execution_count": 16,
   "id": "60d4bb57",
   "metadata": {},
   "outputs": [
    {
     "name": "stdout",
     "output_type": "stream",
     "text": [
      "['and', 'has', 'aided', 'level', 'with', 'Data']\n"
     ]
    }
   ],
   "source": [
    "#The code below is flexible and can allow a range of word length which can easily be modified or adjusted.\n",
    "import re\n",
    "\n",
    "def find_specific_length_words(text, min_len=3, max_len=5):\n",
    "    # This Compiles a regular expression to match words within a given length range\n",
    "    pattern = re.compile(r'\\b\\w{%d,%d}\\b' % (min_len, max_len))\n",
    "    return pattern.findall(text)\n",
    "\n",
    "text = \"DataTrained and FlipRobo has aided my level with my journey as a Data Scientist.\"\n",
    "print(find_specific_length_words(text)) "
   ]
  },
  {
   "cell_type": "code",
   "execution_count": null,
   "id": "6416f60d",
   "metadata": {},
   "outputs": [],
   "source": []
  },
  {
   "cell_type": "markdown",
   "id": "4a34e7b6",
   "metadata": {},
   "source": [
    "### Question 5"
   ]
  },
  {
   "cell_type": "markdown",
   "id": "8481f431",
   "metadata": {},
   "source": [
    "Create a function in Python to remove the parenthesis in a list of strings. The use of the re.compile() method is mandatory.\n",
    "Sample Text: [\"example (.com)\", \"hr@fliprobo (.com)\", \"github (.com)\", \"Hello (Data Science World)\", \"Data (Scientist)\"]\n",
    "\n",
    "Expected Output:\n",
    "\n",
    "`example.com`\n",
    "\n",
    "`hr@fliprobo.com`\n",
    "\n",
    "`github.com`\n",
    "\n",
    "`Hello Data Science World`\n",
    "\n",
    "`Data Scientist`\n"
   ]
  },
  {
   "cell_type": "code",
   "execution_count": 28,
   "id": "92f1b732",
   "metadata": {},
   "outputs": [
    {
     "name": "stdout",
     "output_type": "stream",
     "text": [
      "example .com\n",
      "hr@fliprobo .com\n",
      "github .com\n",
      "Hello Data Science World\n",
      "Data Scientist\n"
     ]
    }
   ],
   "source": [
    "import re\n",
    "\n",
    "def remove_parentheses(strings):\n",
    "    # Compiling a regular expression to work on only the parentheses, keeping the content\n",
    "    pattern = re.compile(r'\\(|\\)')\n",
    "    \n",
    "    # Removes the parentheses but keeps the content intact\n",
    "    cleaned_strings = [pattern.sub('', s).strip() for s in strings]\n",
    "    \n",
    "    # I want each string on a new line, so I print each cleaned string on a new line\n",
    "    for string in cleaned_strings:\n",
    "        print(string)\n",
    "\n",
    "# Let's try it out\n",
    "strings = [\"example (.com)\", \"hr@fliprobo (.com)\", \"github (.com)\", \"Hello (Data Science World)\", \"Data (Scientist)\"]\n",
    "remove_parentheses(strings)\n"
   ]
  },
  {
   "cell_type": "code",
   "execution_count": null,
   "id": "1146a853",
   "metadata": {},
   "outputs": [],
   "source": []
  },
  {
   "cell_type": "markdown",
   "id": "a76f03b0",
   "metadata": {},
   "source": [
    "### Question 6"
   ]
  },
  {
   "cell_type": "markdown",
   "id": "580e2f71",
   "metadata": {},
   "source": [
    "Write a python program to remove the parenthesis area from the text stored in the text file using Regular Expression.\n",
    "\n",
    "Sample Text: `[\"example (.com)\", \"hr@fliprobo (.com)\", \"github (.com)\", \"Hello (Data Science World)\", \"Data (Scientist)\"]`\n",
    "\n",
    "Expected Output: `[\"example\", \"hr@fliprobo\", \"github\", \"Hello\", \"Data\"]`\n",
    "\n",
    " **Note**: Store given sample text in the text file and then to remove the parenthesis area from the text.\n",
    "\n"
   ]
  },
  {
   "cell_type": "code",
   "execution_count": 44,
   "id": "cda26bb4",
   "metadata": {},
   "outputs": [
    {
     "name": "stdout",
     "output_type": "stream",
     "text": [
      "example\n",
      "hr@fliprobo\n",
      "github\n",
      "Hello\n",
      "Data\n"
     ]
    }
   ],
   "source": [
    "# Sample text to be written to the file\n",
    "sample_text = [\n",
    "    \"example (.com)\",\n",
    "    \"hr@fliprobo (.com)\",\n",
    "    \"github (.com)\",\n",
    "    \"Hello (Data Science World)\",\n",
    "    \"Data (Scientist)\"\n",
    "]\n",
    "\n",
    "# Write sample text to a file\n",
    "with open('sample_text.txt', 'w') as file:\n",
    "    for line in sample_text:\n",
    "        file.write(f\"{line}\\n\")\n",
    "\n",
    "import re\n",
    "\n",
    "def remove_parentheses_from_file(input_file, output_file):\n",
    "    # Compile a regular expression to match parentheses and the content inside them\n",
    "    pattern = re.compile(r'\\s*\\(.*?\\)\\s*')\n",
    "    \n",
    "    # Read the text from the original file\n",
    "    with open(input_file, 'r') as file:\n",
    "        lines = file.readlines()\n",
    "    \n",
    "    # Remove parentheses and their contents\n",
    "    cleaned_lines = [pattern.sub('', line).strip() for line in lines]\n",
    "    \n",
    "    # Write the cleaned text to a new file and print it\n",
    "    with open(output_file, 'w') as file:\n",
    "        for line in cleaned_lines:\n",
    "            file.write(f\"{line}\\n\")\n",
    "            print(line)  # Print the cleaned line to the console\n",
    "\n",
    "# Example usage\n",
    "remove_parentheses_from_file('sample_text.txt', 'cleaned_text.txt')\n"
   ]
  },
  {
   "cell_type": "code",
   "execution_count": null,
   "id": "1d607693",
   "metadata": {},
   "outputs": [],
   "source": []
  },
  {
   "cell_type": "markdown",
   "id": "0d26ca11",
   "metadata": {},
   "source": [
    "### Question 7"
   ]
  },
  {
   "cell_type": "markdown",
   "id": "614094a9",
   "metadata": {},
   "source": [
    "Write a regular expression in Python to split a string into uppercase letters.\n",
    "\n",
    "Sample text: `“ImportanceOfRegularExpressionsInPython”`\n",
    "\n",
    "Expected Output: `[‘Importance’, ‘Of’, ‘Regular’, ‘Expression’, ‘In’, ‘Python’]`\n"
   ]
  },
  {
   "cell_type": "code",
   "execution_count": 46,
   "id": "2902cd0e",
   "metadata": {},
   "outputs": [
    {
     "name": "stdout",
     "output_type": "stream",
     "text": [
      "['Importance', 'Of', 'Regular', 'Expressions', 'In', 'Python']\n"
     ]
    }
   ],
   "source": [
    "import re\n",
    "\n",
    "def split_on_uppercase(text):\n",
    "    # Here the\"sub\" is used to insert a space before each uppercase letter except the first one\n",
    "    pattern = re.compile(r'([A-Z])')\n",
    "    \n",
    "    # Replace matches with space + match and strip leading space\n",
    "    modified_text = pattern.sub(r' \\1', text).strip()\n",
    "    \n",
    "    # the modified text is split on spaces\n",
    "    return modified_text.split()\n",
    "\n",
    "# Trying it out \n",
    "sample_text = \"ImportanceOfRegularExpressionsInPython\"\n",
    "output = split_on_uppercase(sample_text)\n",
    "print(output)\n"
   ]
  },
  {
   "cell_type": "code",
   "execution_count": null,
   "id": "00da5dab",
   "metadata": {},
   "outputs": [],
   "source": []
  },
  {
   "cell_type": "markdown",
   "id": "1b4db552",
   "metadata": {},
   "source": [
    "### Question 8"
   ]
  },
  {
   "cell_type": "markdown",
   "id": "8e4e51b5",
   "metadata": {},
   "source": [
    "Create a function in python to insert spaces between words starting with numbers.\n",
    "\n",
    "Sample Text: `“RegularExpression1IsAn2ImportantTopic3InPython\"`\n",
    "\n",
    "Expected Output: `RegularExpression 1IsAn 2ImportantTopic 3InPython`\n",
    "\n"
   ]
  },
  {
   "cell_type": "code",
   "execution_count": 57,
   "id": "073f7f88",
   "metadata": {},
   "outputs": [
    {
     "name": "stdout",
     "output_type": "stream",
     "text": [
      "RegularExpression 1IsAn 2ImportantTopic 3InPython\n"
     ]
    }
   ],
   "source": [
    "import re\n",
    "\n",
    "def insert_spaces(text):\n",
    "    # Using re.sub pattern in this context, it finds digits and inserts a space before them\n",
    "    pattern = re.compile(r'(\\d)')\n",
    "    \n",
    "    # Inserting a space before each digits\n",
    "    return pattern.sub(r' \\1', text)\n",
    "\n",
    "# Using the sample textS\n",
    "sample_text = \"RegularExpression1IsAn2ImportantTopic3InPython\"\n",
    "output = insert_spaces(sample_text)\n",
    "print(output)\n"
   ]
  },
  {
   "cell_type": "code",
   "execution_count": null,
   "id": "1d9a0fe2",
   "metadata": {},
   "outputs": [],
   "source": []
  },
  {
   "cell_type": "markdown",
   "id": "01239b20",
   "metadata": {},
   "source": [
    "### Question 9"
   ]
  },
  {
   "cell_type": "markdown",
   "id": "5f97e9cf",
   "metadata": {},
   "source": [
    "Create a function in python to insert spaces between words starting with capital letters or with numbers.\n",
    "\n",
    "Sample Text: `“RegularExpression1IsAn2ImportantTopic3InPython\"`\n",
    "\n",
    "Expected Output: `RegularExpression 1 IsAn 2 ImportantTopic 3 InPython`\n"
   ]
  },
  {
   "cell_type": "code",
   "execution_count": 56,
   "id": "181f2655",
   "metadata": {},
   "outputs": [
    {
     "name": "stdout",
     "output_type": "stream",
     "text": [
      "RegularExpression 1 IsAn 2 ImportantTopic 3 InPython\n"
     ]
    }
   ],
   "source": [
    "import re\n",
    "\n",
    "def insert_spaces(text):\n",
    "    # Using \"re.sub\"  pattern,  it inserts spaces before and after each number\n",
    "    pattern = re.compile(r'(\\d)')\n",
    "    \n",
    "    # Insert spaces\n",
    "    return pattern.sub(r' \\1 ', text)\n",
    "\n",
    "# Sample usage\n",
    "sample_text = \"RegularExpression1IsAn2ImportantTopic3InPython\"\n",
    "output = insert_spaces(sample_text)\n",
    "print(output)\n"
   ]
  },
  {
   "cell_type": "code",
   "execution_count": null,
   "id": "31a2d117",
   "metadata": {},
   "outputs": [],
   "source": []
  },
  {
   "cell_type": "markdown",
   "id": "d890f470",
   "metadata": {},
   "source": [
    "### Question 10"
   ]
  },
  {
   "cell_type": "markdown",
   "id": "e526df18",
   "metadata": {},
   "source": [
    "Use the github link below to read the data and create a dataframe. After creating the dataframe extract the first 6 letters of each country and store in the dataframe under a new column called first_five_letters.\n",
    "Github Link-  https://raw.githubusercontent.com/dsrscientist/DSData/master/happiness_score_dataset.csv\n"
   ]
  },
  {
   "cell_type": "code",
   "execution_count": 73,
   "id": "0e1404f9",
   "metadata": {},
   "outputs": [
    {
     "data": {
      "text/html": [
       "<div>\n",
       "<style scoped>\n",
       "    .dataframe tbody tr th:only-of-type {\n",
       "        vertical-align: middle;\n",
       "    }\n",
       "\n",
       "    .dataframe tbody tr th {\n",
       "        vertical-align: top;\n",
       "    }\n",
       "\n",
       "    .dataframe thead th {\n",
       "        text-align: right;\n",
       "    }\n",
       "</style>\n",
       "<table border=\"1\" class=\"dataframe\">\n",
       "  <thead>\n",
       "    <tr style=\"text-align: right;\">\n",
       "      <th></th>\n",
       "      <th>Country</th>\n",
       "      <th>Region</th>\n",
       "      <th>Happiness Rank</th>\n",
       "      <th>Happiness Score</th>\n",
       "      <th>Standard Error</th>\n",
       "      <th>Economy (GDP per Capita)</th>\n",
       "      <th>Family</th>\n",
       "      <th>Health (Life Expectancy)</th>\n",
       "      <th>Freedom</th>\n",
       "      <th>Trust (Government Corruption)</th>\n",
       "      <th>Generosity</th>\n",
       "      <th>Dystopia Residual</th>\n",
       "    </tr>\n",
       "  </thead>\n",
       "  <tbody>\n",
       "    <tr>\n",
       "      <th>0</th>\n",
       "      <td>Switzerland</td>\n",
       "      <td>Western Europe</td>\n",
       "      <td>1</td>\n",
       "      <td>7.587</td>\n",
       "      <td>0.03411</td>\n",
       "      <td>1.39651</td>\n",
       "      <td>1.34951</td>\n",
       "      <td>0.94143</td>\n",
       "      <td>0.66557</td>\n",
       "      <td>0.41978</td>\n",
       "      <td>0.29678</td>\n",
       "      <td>2.51738</td>\n",
       "    </tr>\n",
       "    <tr>\n",
       "      <th>1</th>\n",
       "      <td>Iceland</td>\n",
       "      <td>Western Europe</td>\n",
       "      <td>2</td>\n",
       "      <td>7.561</td>\n",
       "      <td>0.04884</td>\n",
       "      <td>1.30232</td>\n",
       "      <td>1.40223</td>\n",
       "      <td>0.94784</td>\n",
       "      <td>0.62877</td>\n",
       "      <td>0.14145</td>\n",
       "      <td>0.43630</td>\n",
       "      <td>2.70201</td>\n",
       "    </tr>\n",
       "    <tr>\n",
       "      <th>2</th>\n",
       "      <td>Denmark</td>\n",
       "      <td>Western Europe</td>\n",
       "      <td>3</td>\n",
       "      <td>7.527</td>\n",
       "      <td>0.03328</td>\n",
       "      <td>1.32548</td>\n",
       "      <td>1.36058</td>\n",
       "      <td>0.87464</td>\n",
       "      <td>0.64938</td>\n",
       "      <td>0.48357</td>\n",
       "      <td>0.34139</td>\n",
       "      <td>2.49204</td>\n",
       "    </tr>\n",
       "    <tr>\n",
       "      <th>3</th>\n",
       "      <td>Norway</td>\n",
       "      <td>Western Europe</td>\n",
       "      <td>4</td>\n",
       "      <td>7.522</td>\n",
       "      <td>0.03880</td>\n",
       "      <td>1.45900</td>\n",
       "      <td>1.33095</td>\n",
       "      <td>0.88521</td>\n",
       "      <td>0.66973</td>\n",
       "      <td>0.36503</td>\n",
       "      <td>0.34699</td>\n",
       "      <td>2.46531</td>\n",
       "    </tr>\n",
       "    <tr>\n",
       "      <th>4</th>\n",
       "      <td>Canada</td>\n",
       "      <td>North America</td>\n",
       "      <td>5</td>\n",
       "      <td>7.427</td>\n",
       "      <td>0.03553</td>\n",
       "      <td>1.32629</td>\n",
       "      <td>1.32261</td>\n",
       "      <td>0.90563</td>\n",
       "      <td>0.63297</td>\n",
       "      <td>0.32957</td>\n",
       "      <td>0.45811</td>\n",
       "      <td>2.45176</td>\n",
       "    </tr>\n",
       "    <tr>\n",
       "      <th>5</th>\n",
       "      <td>Finland</td>\n",
       "      <td>Western Europe</td>\n",
       "      <td>6</td>\n",
       "      <td>7.406</td>\n",
       "      <td>0.03140</td>\n",
       "      <td>1.29025</td>\n",
       "      <td>1.31826</td>\n",
       "      <td>0.88911</td>\n",
       "      <td>0.64169</td>\n",
       "      <td>0.41372</td>\n",
       "      <td>0.23351</td>\n",
       "      <td>2.61955</td>\n",
       "    </tr>\n",
       "    <tr>\n",
       "      <th>6</th>\n",
       "      <td>Netherlands</td>\n",
       "      <td>Western Europe</td>\n",
       "      <td>7</td>\n",
       "      <td>7.378</td>\n",
       "      <td>0.02799</td>\n",
       "      <td>1.32944</td>\n",
       "      <td>1.28017</td>\n",
       "      <td>0.89284</td>\n",
       "      <td>0.61576</td>\n",
       "      <td>0.31814</td>\n",
       "      <td>0.47610</td>\n",
       "      <td>2.46570</td>\n",
       "    </tr>\n",
       "    <tr>\n",
       "      <th>7</th>\n",
       "      <td>Sweden</td>\n",
       "      <td>Western Europe</td>\n",
       "      <td>8</td>\n",
       "      <td>7.364</td>\n",
       "      <td>0.03157</td>\n",
       "      <td>1.33171</td>\n",
       "      <td>1.28907</td>\n",
       "      <td>0.91087</td>\n",
       "      <td>0.65980</td>\n",
       "      <td>0.43844</td>\n",
       "      <td>0.36262</td>\n",
       "      <td>2.37119</td>\n",
       "    </tr>\n",
       "    <tr>\n",
       "      <th>8</th>\n",
       "      <td>New Zealand</td>\n",
       "      <td>Australia and New Zealand</td>\n",
       "      <td>9</td>\n",
       "      <td>7.286</td>\n",
       "      <td>0.03371</td>\n",
       "      <td>1.25018</td>\n",
       "      <td>1.31967</td>\n",
       "      <td>0.90837</td>\n",
       "      <td>0.63938</td>\n",
       "      <td>0.42922</td>\n",
       "      <td>0.47501</td>\n",
       "      <td>2.26425</td>\n",
       "    </tr>\n",
       "    <tr>\n",
       "      <th>9</th>\n",
       "      <td>Australia</td>\n",
       "      <td>Australia and New Zealand</td>\n",
       "      <td>10</td>\n",
       "      <td>7.284</td>\n",
       "      <td>0.04083</td>\n",
       "      <td>1.33358</td>\n",
       "      <td>1.30923</td>\n",
       "      <td>0.93156</td>\n",
       "      <td>0.65124</td>\n",
       "      <td>0.35637</td>\n",
       "      <td>0.43562</td>\n",
       "      <td>2.26646</td>\n",
       "    </tr>\n",
       "    <tr>\n",
       "      <th>10</th>\n",
       "      <td>Israel</td>\n",
       "      <td>Middle East and Northern Africa</td>\n",
       "      <td>11</td>\n",
       "      <td>7.278</td>\n",
       "      <td>0.03470</td>\n",
       "      <td>1.22857</td>\n",
       "      <td>1.22393</td>\n",
       "      <td>0.91387</td>\n",
       "      <td>0.41319</td>\n",
       "      <td>0.07785</td>\n",
       "      <td>0.33172</td>\n",
       "      <td>3.08854</td>\n",
       "    </tr>\n",
       "    <tr>\n",
       "      <th>11</th>\n",
       "      <td>Costa Rica</td>\n",
       "      <td>Latin America and Caribbean</td>\n",
       "      <td>12</td>\n",
       "      <td>7.226</td>\n",
       "      <td>0.04454</td>\n",
       "      <td>0.95578</td>\n",
       "      <td>1.23788</td>\n",
       "      <td>0.86027</td>\n",
       "      <td>0.63376</td>\n",
       "      <td>0.10583</td>\n",
       "      <td>0.25497</td>\n",
       "      <td>3.17728</td>\n",
       "    </tr>\n",
       "    <tr>\n",
       "      <th>12</th>\n",
       "      <td>Austria</td>\n",
       "      <td>Western Europe</td>\n",
       "      <td>13</td>\n",
       "      <td>7.200</td>\n",
       "      <td>0.03751</td>\n",
       "      <td>1.33723</td>\n",
       "      <td>1.29704</td>\n",
       "      <td>0.89042</td>\n",
       "      <td>0.62433</td>\n",
       "      <td>0.18676</td>\n",
       "      <td>0.33088</td>\n",
       "      <td>2.53320</td>\n",
       "    </tr>\n",
       "    <tr>\n",
       "      <th>13</th>\n",
       "      <td>Mexico</td>\n",
       "      <td>Latin America and Caribbean</td>\n",
       "      <td>14</td>\n",
       "      <td>7.187</td>\n",
       "      <td>0.04176</td>\n",
       "      <td>1.02054</td>\n",
       "      <td>0.91451</td>\n",
       "      <td>0.81444</td>\n",
       "      <td>0.48181</td>\n",
       "      <td>0.21312</td>\n",
       "      <td>0.14074</td>\n",
       "      <td>3.60214</td>\n",
       "    </tr>\n",
       "    <tr>\n",
       "      <th>14</th>\n",
       "      <td>United States</td>\n",
       "      <td>North America</td>\n",
       "      <td>15</td>\n",
       "      <td>7.119</td>\n",
       "      <td>0.03839</td>\n",
       "      <td>1.39451</td>\n",
       "      <td>1.24711</td>\n",
       "      <td>0.86179</td>\n",
       "      <td>0.54604</td>\n",
       "      <td>0.15890</td>\n",
       "      <td>0.40105</td>\n",
       "      <td>2.51011</td>\n",
       "    </tr>\n",
       "  </tbody>\n",
       "</table>\n",
       "</div>"
      ],
      "text/plain": [
       "          Country                           Region  Happiness Rank  \\\n",
       "0     Switzerland                   Western Europe               1   \n",
       "1         Iceland                   Western Europe               2   \n",
       "2         Denmark                   Western Europe               3   \n",
       "3          Norway                   Western Europe               4   \n",
       "4          Canada                    North America               5   \n",
       "5         Finland                   Western Europe               6   \n",
       "6     Netherlands                   Western Europe               7   \n",
       "7          Sweden                   Western Europe               8   \n",
       "8     New Zealand        Australia and New Zealand               9   \n",
       "9       Australia        Australia and New Zealand              10   \n",
       "10         Israel  Middle East and Northern Africa              11   \n",
       "11     Costa Rica      Latin America and Caribbean              12   \n",
       "12        Austria                   Western Europe              13   \n",
       "13         Mexico      Latin America and Caribbean              14   \n",
       "14  United States                    North America              15   \n",
       "\n",
       "    Happiness Score  Standard Error  Economy (GDP per Capita)   Family  \\\n",
       "0             7.587         0.03411                   1.39651  1.34951   \n",
       "1             7.561         0.04884                   1.30232  1.40223   \n",
       "2             7.527         0.03328                   1.32548  1.36058   \n",
       "3             7.522         0.03880                   1.45900  1.33095   \n",
       "4             7.427         0.03553                   1.32629  1.32261   \n",
       "5             7.406         0.03140                   1.29025  1.31826   \n",
       "6             7.378         0.02799                   1.32944  1.28017   \n",
       "7             7.364         0.03157                   1.33171  1.28907   \n",
       "8             7.286         0.03371                   1.25018  1.31967   \n",
       "9             7.284         0.04083                   1.33358  1.30923   \n",
       "10            7.278         0.03470                   1.22857  1.22393   \n",
       "11            7.226         0.04454                   0.95578  1.23788   \n",
       "12            7.200         0.03751                   1.33723  1.29704   \n",
       "13            7.187         0.04176                   1.02054  0.91451   \n",
       "14            7.119         0.03839                   1.39451  1.24711   \n",
       "\n",
       "    Health (Life Expectancy)  Freedom  Trust (Government Corruption)  \\\n",
       "0                    0.94143  0.66557                        0.41978   \n",
       "1                    0.94784  0.62877                        0.14145   \n",
       "2                    0.87464  0.64938                        0.48357   \n",
       "3                    0.88521  0.66973                        0.36503   \n",
       "4                    0.90563  0.63297                        0.32957   \n",
       "5                    0.88911  0.64169                        0.41372   \n",
       "6                    0.89284  0.61576                        0.31814   \n",
       "7                    0.91087  0.65980                        0.43844   \n",
       "8                    0.90837  0.63938                        0.42922   \n",
       "9                    0.93156  0.65124                        0.35637   \n",
       "10                   0.91387  0.41319                        0.07785   \n",
       "11                   0.86027  0.63376                        0.10583   \n",
       "12                   0.89042  0.62433                        0.18676   \n",
       "13                   0.81444  0.48181                        0.21312   \n",
       "14                   0.86179  0.54604                        0.15890   \n",
       "\n",
       "    Generosity  Dystopia Residual  \n",
       "0      0.29678            2.51738  \n",
       "1      0.43630            2.70201  \n",
       "2      0.34139            2.49204  \n",
       "3      0.34699            2.46531  \n",
       "4      0.45811            2.45176  \n",
       "5      0.23351            2.61955  \n",
       "6      0.47610            2.46570  \n",
       "7      0.36262            2.37119  \n",
       "8      0.47501            2.26425  \n",
       "9      0.43562            2.26646  \n",
       "10     0.33172            3.08854  \n",
       "11     0.25497            3.17728  \n",
       "12     0.33088            2.53320  \n",
       "13     0.14074            3.60214  \n",
       "14     0.40105            2.51011  "
      ]
     },
     "execution_count": 73,
     "metadata": {},
     "output_type": "execute_result"
    }
   ],
   "source": [
    "#The code below creates the dataframe and displays it in a tabular form without the new column\n",
    "import pandas as pd\n",
    "\n",
    "# This loads the DataFrame from the provided GitHub link\n",
    "url = \"https://raw.githubusercontent.com/dsrscientist/DSData/master/happiness_score_dataset.csv\"\n",
    "df = pd.read_csv(url)\n",
    "\n",
    "# This displays the first 15 rows of the DataFrame\n",
    "df.head(15)\n",
    "\n"
   ]
  },
  {
   "cell_type": "code",
   "execution_count": 78,
   "id": "593755e3",
   "metadata": {},
   "outputs": [
    {
     "data": {
      "text/html": [
       "<div>\n",
       "<style scoped>\n",
       "    .dataframe tbody tr th:only-of-type {\n",
       "        vertical-align: middle;\n",
       "    }\n",
       "\n",
       "    .dataframe tbody tr th {\n",
       "        vertical-align: top;\n",
       "    }\n",
       "\n",
       "    .dataframe thead th {\n",
       "        text-align: right;\n",
       "    }\n",
       "</style>\n",
       "<table border=\"1\" class=\"dataframe\">\n",
       "  <thead>\n",
       "    <tr style=\"text-align: right;\">\n",
       "      <th></th>\n",
       "      <th>Country</th>\n",
       "      <th>Region</th>\n",
       "      <th>Happiness Rank</th>\n",
       "      <th>Happiness Score</th>\n",
       "      <th>Standard Error</th>\n",
       "      <th>Economy (GDP per Capita)</th>\n",
       "      <th>Family</th>\n",
       "      <th>Health (Life Expectancy)</th>\n",
       "      <th>Freedom</th>\n",
       "      <th>Trust (Government Corruption)</th>\n",
       "      <th>Generosity</th>\n",
       "      <th>Dystopia Residual</th>\n",
       "      <th>first_five_letters</th>\n",
       "    </tr>\n",
       "  </thead>\n",
       "  <tbody>\n",
       "    <tr>\n",
       "      <th>0</th>\n",
       "      <td>Switzerland</td>\n",
       "      <td>Western Europe</td>\n",
       "      <td>1</td>\n",
       "      <td>7.587</td>\n",
       "      <td>0.03411</td>\n",
       "      <td>1.39651</td>\n",
       "      <td>1.34951</td>\n",
       "      <td>0.94143</td>\n",
       "      <td>0.66557</td>\n",
       "      <td>0.41978</td>\n",
       "      <td>0.29678</td>\n",
       "      <td>2.51738</td>\n",
       "      <td>Switze</td>\n",
       "    </tr>\n",
       "    <tr>\n",
       "      <th>1</th>\n",
       "      <td>Iceland</td>\n",
       "      <td>Western Europe</td>\n",
       "      <td>2</td>\n",
       "      <td>7.561</td>\n",
       "      <td>0.04884</td>\n",
       "      <td>1.30232</td>\n",
       "      <td>1.40223</td>\n",
       "      <td>0.94784</td>\n",
       "      <td>0.62877</td>\n",
       "      <td>0.14145</td>\n",
       "      <td>0.43630</td>\n",
       "      <td>2.70201</td>\n",
       "      <td>Icelan</td>\n",
       "    </tr>\n",
       "    <tr>\n",
       "      <th>2</th>\n",
       "      <td>Denmark</td>\n",
       "      <td>Western Europe</td>\n",
       "      <td>3</td>\n",
       "      <td>7.527</td>\n",
       "      <td>0.03328</td>\n",
       "      <td>1.32548</td>\n",
       "      <td>1.36058</td>\n",
       "      <td>0.87464</td>\n",
       "      <td>0.64938</td>\n",
       "      <td>0.48357</td>\n",
       "      <td>0.34139</td>\n",
       "      <td>2.49204</td>\n",
       "      <td>Denmar</td>\n",
       "    </tr>\n",
       "    <tr>\n",
       "      <th>3</th>\n",
       "      <td>Norway</td>\n",
       "      <td>Western Europe</td>\n",
       "      <td>4</td>\n",
       "      <td>7.522</td>\n",
       "      <td>0.03880</td>\n",
       "      <td>1.45900</td>\n",
       "      <td>1.33095</td>\n",
       "      <td>0.88521</td>\n",
       "      <td>0.66973</td>\n",
       "      <td>0.36503</td>\n",
       "      <td>0.34699</td>\n",
       "      <td>2.46531</td>\n",
       "      <td>Norway</td>\n",
       "    </tr>\n",
       "    <tr>\n",
       "      <th>4</th>\n",
       "      <td>Canada</td>\n",
       "      <td>North America</td>\n",
       "      <td>5</td>\n",
       "      <td>7.427</td>\n",
       "      <td>0.03553</td>\n",
       "      <td>1.32629</td>\n",
       "      <td>1.32261</td>\n",
       "      <td>0.90563</td>\n",
       "      <td>0.63297</td>\n",
       "      <td>0.32957</td>\n",
       "      <td>0.45811</td>\n",
       "      <td>2.45176</td>\n",
       "      <td>Canada</td>\n",
       "    </tr>\n",
       "    <tr>\n",
       "      <th>5</th>\n",
       "      <td>Finland</td>\n",
       "      <td>Western Europe</td>\n",
       "      <td>6</td>\n",
       "      <td>7.406</td>\n",
       "      <td>0.03140</td>\n",
       "      <td>1.29025</td>\n",
       "      <td>1.31826</td>\n",
       "      <td>0.88911</td>\n",
       "      <td>0.64169</td>\n",
       "      <td>0.41372</td>\n",
       "      <td>0.23351</td>\n",
       "      <td>2.61955</td>\n",
       "      <td>Finlan</td>\n",
       "    </tr>\n",
       "    <tr>\n",
       "      <th>6</th>\n",
       "      <td>Netherlands</td>\n",
       "      <td>Western Europe</td>\n",
       "      <td>7</td>\n",
       "      <td>7.378</td>\n",
       "      <td>0.02799</td>\n",
       "      <td>1.32944</td>\n",
       "      <td>1.28017</td>\n",
       "      <td>0.89284</td>\n",
       "      <td>0.61576</td>\n",
       "      <td>0.31814</td>\n",
       "      <td>0.47610</td>\n",
       "      <td>2.46570</td>\n",
       "      <td>Nether</td>\n",
       "    </tr>\n",
       "    <tr>\n",
       "      <th>7</th>\n",
       "      <td>Sweden</td>\n",
       "      <td>Western Europe</td>\n",
       "      <td>8</td>\n",
       "      <td>7.364</td>\n",
       "      <td>0.03157</td>\n",
       "      <td>1.33171</td>\n",
       "      <td>1.28907</td>\n",
       "      <td>0.91087</td>\n",
       "      <td>0.65980</td>\n",
       "      <td>0.43844</td>\n",
       "      <td>0.36262</td>\n",
       "      <td>2.37119</td>\n",
       "      <td>Sweden</td>\n",
       "    </tr>\n",
       "    <tr>\n",
       "      <th>8</th>\n",
       "      <td>New Zealand</td>\n",
       "      <td>Australia and New Zealand</td>\n",
       "      <td>9</td>\n",
       "      <td>7.286</td>\n",
       "      <td>0.03371</td>\n",
       "      <td>1.25018</td>\n",
       "      <td>1.31967</td>\n",
       "      <td>0.90837</td>\n",
       "      <td>0.63938</td>\n",
       "      <td>0.42922</td>\n",
       "      <td>0.47501</td>\n",
       "      <td>2.26425</td>\n",
       "      <td>New Ze</td>\n",
       "    </tr>\n",
       "    <tr>\n",
       "      <th>9</th>\n",
       "      <td>Australia</td>\n",
       "      <td>Australia and New Zealand</td>\n",
       "      <td>10</td>\n",
       "      <td>7.284</td>\n",
       "      <td>0.04083</td>\n",
       "      <td>1.33358</td>\n",
       "      <td>1.30923</td>\n",
       "      <td>0.93156</td>\n",
       "      <td>0.65124</td>\n",
       "      <td>0.35637</td>\n",
       "      <td>0.43562</td>\n",
       "      <td>2.26646</td>\n",
       "      <td>Austra</td>\n",
       "    </tr>\n",
       "    <tr>\n",
       "      <th>10</th>\n",
       "      <td>Israel</td>\n",
       "      <td>Middle East and Northern Africa</td>\n",
       "      <td>11</td>\n",
       "      <td>7.278</td>\n",
       "      <td>0.03470</td>\n",
       "      <td>1.22857</td>\n",
       "      <td>1.22393</td>\n",
       "      <td>0.91387</td>\n",
       "      <td>0.41319</td>\n",
       "      <td>0.07785</td>\n",
       "      <td>0.33172</td>\n",
       "      <td>3.08854</td>\n",
       "      <td>Israel</td>\n",
       "    </tr>\n",
       "    <tr>\n",
       "      <th>11</th>\n",
       "      <td>Costa Rica</td>\n",
       "      <td>Latin America and Caribbean</td>\n",
       "      <td>12</td>\n",
       "      <td>7.226</td>\n",
       "      <td>0.04454</td>\n",
       "      <td>0.95578</td>\n",
       "      <td>1.23788</td>\n",
       "      <td>0.86027</td>\n",
       "      <td>0.63376</td>\n",
       "      <td>0.10583</td>\n",
       "      <td>0.25497</td>\n",
       "      <td>3.17728</td>\n",
       "      <td>Costa</td>\n",
       "    </tr>\n",
       "    <tr>\n",
       "      <th>12</th>\n",
       "      <td>Austria</td>\n",
       "      <td>Western Europe</td>\n",
       "      <td>13</td>\n",
       "      <td>7.200</td>\n",
       "      <td>0.03751</td>\n",
       "      <td>1.33723</td>\n",
       "      <td>1.29704</td>\n",
       "      <td>0.89042</td>\n",
       "      <td>0.62433</td>\n",
       "      <td>0.18676</td>\n",
       "      <td>0.33088</td>\n",
       "      <td>2.53320</td>\n",
       "      <td>Austri</td>\n",
       "    </tr>\n",
       "    <tr>\n",
       "      <th>13</th>\n",
       "      <td>Mexico</td>\n",
       "      <td>Latin America and Caribbean</td>\n",
       "      <td>14</td>\n",
       "      <td>7.187</td>\n",
       "      <td>0.04176</td>\n",
       "      <td>1.02054</td>\n",
       "      <td>0.91451</td>\n",
       "      <td>0.81444</td>\n",
       "      <td>0.48181</td>\n",
       "      <td>0.21312</td>\n",
       "      <td>0.14074</td>\n",
       "      <td>3.60214</td>\n",
       "      <td>Mexico</td>\n",
       "    </tr>\n",
       "    <tr>\n",
       "      <th>14</th>\n",
       "      <td>United States</td>\n",
       "      <td>North America</td>\n",
       "      <td>15</td>\n",
       "      <td>7.119</td>\n",
       "      <td>0.03839</td>\n",
       "      <td>1.39451</td>\n",
       "      <td>1.24711</td>\n",
       "      <td>0.86179</td>\n",
       "      <td>0.54604</td>\n",
       "      <td>0.15890</td>\n",
       "      <td>0.40105</td>\n",
       "      <td>2.51011</td>\n",
       "      <td>United</td>\n",
       "    </tr>\n",
       "  </tbody>\n",
       "</table>\n",
       "</div>"
      ],
      "text/plain": [
       "          Country                           Region  Happiness Rank  \\\n",
       "0     Switzerland                   Western Europe               1   \n",
       "1         Iceland                   Western Europe               2   \n",
       "2         Denmark                   Western Europe               3   \n",
       "3          Norway                   Western Europe               4   \n",
       "4          Canada                    North America               5   \n",
       "5         Finland                   Western Europe               6   \n",
       "6     Netherlands                   Western Europe               7   \n",
       "7          Sweden                   Western Europe               8   \n",
       "8     New Zealand        Australia and New Zealand               9   \n",
       "9       Australia        Australia and New Zealand              10   \n",
       "10         Israel  Middle East and Northern Africa              11   \n",
       "11     Costa Rica      Latin America and Caribbean              12   \n",
       "12        Austria                   Western Europe              13   \n",
       "13         Mexico      Latin America and Caribbean              14   \n",
       "14  United States                    North America              15   \n",
       "\n",
       "    Happiness Score  Standard Error  Economy (GDP per Capita)   Family  \\\n",
       "0             7.587         0.03411                   1.39651  1.34951   \n",
       "1             7.561         0.04884                   1.30232  1.40223   \n",
       "2             7.527         0.03328                   1.32548  1.36058   \n",
       "3             7.522         0.03880                   1.45900  1.33095   \n",
       "4             7.427         0.03553                   1.32629  1.32261   \n",
       "5             7.406         0.03140                   1.29025  1.31826   \n",
       "6             7.378         0.02799                   1.32944  1.28017   \n",
       "7             7.364         0.03157                   1.33171  1.28907   \n",
       "8             7.286         0.03371                   1.25018  1.31967   \n",
       "9             7.284         0.04083                   1.33358  1.30923   \n",
       "10            7.278         0.03470                   1.22857  1.22393   \n",
       "11            7.226         0.04454                   0.95578  1.23788   \n",
       "12            7.200         0.03751                   1.33723  1.29704   \n",
       "13            7.187         0.04176                   1.02054  0.91451   \n",
       "14            7.119         0.03839                   1.39451  1.24711   \n",
       "\n",
       "    Health (Life Expectancy)  Freedom  Trust (Government Corruption)  \\\n",
       "0                    0.94143  0.66557                        0.41978   \n",
       "1                    0.94784  0.62877                        0.14145   \n",
       "2                    0.87464  0.64938                        0.48357   \n",
       "3                    0.88521  0.66973                        0.36503   \n",
       "4                    0.90563  0.63297                        0.32957   \n",
       "5                    0.88911  0.64169                        0.41372   \n",
       "6                    0.89284  0.61576                        0.31814   \n",
       "7                    0.91087  0.65980                        0.43844   \n",
       "8                    0.90837  0.63938                        0.42922   \n",
       "9                    0.93156  0.65124                        0.35637   \n",
       "10                   0.91387  0.41319                        0.07785   \n",
       "11                   0.86027  0.63376                        0.10583   \n",
       "12                   0.89042  0.62433                        0.18676   \n",
       "13                   0.81444  0.48181                        0.21312   \n",
       "14                   0.86179  0.54604                        0.15890   \n",
       "\n",
       "    Generosity  Dystopia Residual first_five_letters  \n",
       "0      0.29678            2.51738             Switze  \n",
       "1      0.43630            2.70201             Icelan  \n",
       "2      0.34139            2.49204             Denmar  \n",
       "3      0.34699            2.46531             Norway  \n",
       "4      0.45811            2.45176             Canada  \n",
       "5      0.23351            2.61955             Finlan  \n",
       "6      0.47610            2.46570             Nether  \n",
       "7      0.36262            2.37119             Sweden  \n",
       "8      0.47501            2.26425             New Ze  \n",
       "9      0.43562            2.26646             Austra  \n",
       "10     0.33172            3.08854             Israel  \n",
       "11     0.25497            3.17728             Costa   \n",
       "12     0.33088            2.53320             Austri  \n",
       "13     0.14074            3.60214             Mexico  \n",
       "14     0.40105            2.51011             United  "
      ]
     },
     "execution_count": 78,
     "metadata": {},
     "output_type": "execute_result"
    }
   ],
   "source": [
    "import pandas as pd\n",
    "\n",
    "# This loads the DataFrame from the provided GitHub link\n",
    "url = \"https://raw.githubusercontent.com/dsrscientist/DSData/master/happiness_score_dataset.csv\"\n",
    "df = pd.read_csv(url)\n",
    "\n",
    "# This extracts the first 6 letters of each country and store them in a new column called \"first_five_letters\"\n",
    "df['first_five_letters'] = df['Country'].str[:6]\n",
    "\n",
    "# Step 3: Display the first 15 rows of the new DataFrame with the new column\n",
    "df.head(15)\n"
   ]
  },
  {
   "cell_type": "code",
   "execution_count": null,
   "id": "bab6caf1",
   "metadata": {},
   "outputs": [],
   "source": []
  },
  {
   "cell_type": "markdown",
   "id": "7ea61c52",
   "metadata": {},
   "source": [
    "### Question 11"
   ]
  },
  {
   "cell_type": "markdown",
   "id": "c869de7d",
   "metadata": {},
   "source": [
    "Write a Python program to match a string that contains only upper and lowercase letters, numbers, and underscores."
   ]
  },
  {
   "cell_type": "code",
   "execution_count": 81,
   "id": "8a239158",
   "metadata": {},
   "outputs": [
    {
     "name": "stdout",
     "output_type": "stream",
     "text": [
      "'Data_Trained':  This is Valid\n",
      "'These_people_are_number_1_in_town':  This is Valid\n",
      "'I am their studentI_am _a_star': This is Invalid\n",
      "'777567':  This is Valid\n",
      "'Florence_Leo-Patrick_': This is Invalid\n"
     ]
    }
   ],
   "source": [
    "import re\n",
    "\n",
    "def is_valid_string(s):\n",
    "    # Using fullmatch to match the entire string\n",
    "    pattern = r'\\w+'\n",
    "    return bool(re.fullmatch(pattern, s))\n",
    "\n",
    "# Let's test it\n",
    "test_strings = [\"Data_Trained\", \n",
    "                \"These_people_are_number_1_in_town\",\n",
    "                \"I am their student\"\n",
    "                \"I_am _a_star\",\n",
    "                \"777567\", \n",
    "                \"Florence_Leo-Patrick_\", ]\n",
    "\n",
    "for s in test_strings:\n",
    "    print(f\"'{s}':\", \" This is Valid\" if is_valid_string(s) else \"This is Invalid\")\n"
   ]
  },
  {
   "cell_type": "code",
   "execution_count": null,
   "id": "f610ea2a",
   "metadata": {},
   "outputs": [],
   "source": []
  },
  {
   "cell_type": "markdown",
   "id": "1ed8c220",
   "metadata": {},
   "source": [
    "### Question 12"
   ]
  },
  {
   "cell_type": "markdown",
   "id": "7741eca4",
   "metadata": {},
   "source": [
    " Write a Python program where a string will start with a specific number. "
   ]
  },
  {
   "cell_type": "code",
   "execution_count": 96,
   "id": "ccfeb8c3",
   "metadata": {},
   "outputs": [
    {
     "name": "stdout",
     "output_type": "stream",
     "text": [
      "7Victoria_Ezido\n"
     ]
    }
   ],
   "source": [
    "def display_if_starts_with_number(string, digit):\n",
    "    # Converting the digit to a string\n",
    "    number_str = str(digit)\n",
    "    \n",
    "    # Checking if the string starts with the specific number\n",
    "    if string.startswith(number_str):\n",
    "        print(string)\n",
    "    else:\n",
    "        print(f\"The string does not start with the number {digit}.\")\n",
    "\n",
    "#Example\n",
    "text_sample = \"7Victoria_Ezido\"\n",
    "initial_number =7\n",
    "\n",
    "display_if_starts_with_number(sample_text, text_sample)\n"
   ]
  },
  {
   "cell_type": "code",
   "execution_count": null,
   "id": "d7b4fec0",
   "metadata": {},
   "outputs": [],
   "source": []
  },
  {
   "cell_type": "markdown",
   "id": "d4236318",
   "metadata": {},
   "source": [
    "### Question 13"
   ]
  },
  {
   "cell_type": "markdown",
   "id": "d45d2257",
   "metadata": {},
   "source": [
    "Write a Python program to remove leading zeros from an IP address"
   ]
  },
  {
   "cell_type": "code",
   "execution_count": 98,
   "id": "a4710ddc",
   "metadata": {},
   "outputs": [
    {
     "name": "stdout",
     "output_type": "stream",
     "text": [
      "192.168.1.1 is a correct IPv4 address.\n"
     ]
    }
   ],
   "source": [
    "import re\n",
    "\n",
    "def is_correct_ipv4_address(ip):\n",
    "    # Remove leading zeros from each octet\n",
    "    cleaned_ip = '.'.join(str(int(part)) for part in ip.split('.'))\n",
    "    # Validate the cleaned IP address\n",
    "    return (bool(re.match(r'^(\\d{1,3}\\.){3}\\d{1,3}$', cleaned_ip)) \n",
    "            and all(0 <= int(part) <= 255 for part in cleaned_ip.split('.'))), cleaned_ip\n",
    "#Lets try with an example\n",
    "ip_address = \"192.168.001.001\"\n",
    "is_valid, cleaned_ip = is_correct_ipv4_address(ip_address)\n",
    "if is_valid:\n",
    "    print(f\"{cleaned_ip} is a correct IPv4 address.\")\n",
    "else:\n",
    "    print(f\"{cleaned_ip} is not a correct IPv4 address.\")\n"
   ]
  },
  {
   "cell_type": "code",
   "execution_count": null,
   "id": "d92a2334",
   "metadata": {},
   "outputs": [],
   "source": []
  },
  {
   "cell_type": "markdown",
   "id": "b4787bc2",
   "metadata": {},
   "source": [
    "### Question 14"
   ]
  },
  {
   "cell_type": "markdown",
   "id": "1ec60e1a",
   "metadata": {},
   "source": [
    "Write a regular expression in python to match a date string in the form of Month name followed by day number and year stored in a text file.\n",
    "\n",
    "Sample text :  `' On August 15th 1947 that India was declared independent from British colonialism, and the reins of control were handed over to the leaders of the Country’.`\n",
    "\n",
    "Expected Output- `August 15th 1947`\n",
    "\n",
    "**Note**- Store given sample text in the text file and then extract the date string asked format.\n",
    "\n"
   ]
  },
  {
   "cell_type": "code",
   "execution_count": 128,
   "id": "31bc963f",
   "metadata": {},
   "outputs": [],
   "source": [
    "# Store the sample text in a file\n",
    "sample_text = \"\"\"On August 15th 1947 that India was declared independent from British colonialism,\n",
    "and the reins of control were handed over to the leaders of the Country.\"\"\"\n",
    "\n",
    "with open('sample_text.txt', 'w') as file:\n",
    "    file.write(sample_text)\n"
   ]
  },
  {
   "cell_type": "code",
   "execution_count": 130,
   "id": "706dd0f8",
   "metadata": {},
   "outputs": [
    {
     "name": "stdout",
     "output_type": "stream",
     "text": [
      "August 15th 1947\n"
     ]
    }
   ],
   "source": [
    "\n",
    "import re\n",
    "\n",
    "def extract_date_from_file(filename):\n",
    "    # Read the content of the file\n",
    "    with open(filename, 'r') as file:\n",
    "        content = file.read()\n",
    "    \n",
    "    # Define the regular expression pattern to match the date\n",
    "    pattern = r'\\b([A-Z][a-z]+) (\\d{1,2}(?:st|nd|rd|th)?) (\\d{4})\\b'\n",
    "    \n",
    "    # Search for the pattern in the content\n",
    "    match = re.search(pattern, content)\n",
    "    \n",
    "    # If a date is found, print it directly\n",
    "    if match:\n",
    "        print(match.group(0))\n",
    "    else:\n",
    "        print(\"No date found.\")\n",
    "\n",
    "# Example usage\n",
    "filename = 'sample_text.txt'\n",
    "extract_date_from_file(filename)"
   ]
  },
  {
   "cell_type": "code",
   "execution_count": null,
   "id": "6f619167",
   "metadata": {},
   "outputs": [],
   "source": []
  },
  {
   "cell_type": "markdown",
   "id": "15c92373",
   "metadata": {},
   "source": [
    "### Question 15"
   ]
  },
  {
   "cell_type": "markdown",
   "id": "8fa9ff1a",
   "metadata": {},
   "source": [
    " Write a Python program to search some literals strings in a string.\n",
    "\n",
    "Sample text : `'The quick brown fox jumps over the lazy dog.'`\n",
    "    \n",
    "Searched words :` 'fox', 'dog', 'horse'`\n"
   ]
  },
  {
   "cell_type": "code",
   "execution_count": 101,
   "id": "ab33b414",
   "metadata": {},
   "outputs": [
    {
     "name": "stdout",
     "output_type": "stream",
     "text": [
      "'fox' is in the text_string.\n",
      "'dog' is in the text_string.\n",
      "'horse' is in the text_string.\n"
     ]
    }
   ],
   "source": [
    "import re\n",
    "\n",
    "def search_with_regularex(text_string, search_list):\n",
    "    # Combine search words into a single pattern\n",
    "    pattern = '|'.join(search_list)\n",
    "    \n",
    "    # Use re.findall to find all occurrences\n",
    "    found = re.findall(pattern, text_string)\n",
    "    \n",
    "    for word in search_list:\n",
    "        if word in found:\n",
    "            print(f\"'{word}' is in the text_string.\")\n",
    "        else:\n",
    "            print(f\"'{word}' is in the text_string.\")\n",
    "\n",
    "# Example\n",
    "line = 'The quick brown fox jumps over the lazy dog.'\n",
    "targets = ['fox', 'dog', 'horse']\n",
    "\n",
    "search_with_regularex(line, targets)\n"
   ]
  },
  {
   "cell_type": "code",
   "execution_count": null,
   "id": "357c1d4f",
   "metadata": {},
   "outputs": [],
   "source": []
  },
  {
   "cell_type": "markdown",
   "id": "4d7d0244",
   "metadata": {},
   "source": [
    "### Question 16\n",
    "Write a Python program to search a literals string in a string and also find the location within the original string where the pattern occurs\n",
    "\n",
    "Sample text : `'The quick brown fox jumps over the lazy dog.'`\n",
    "Searched words : `'fox'`\n",
    "\n"
   ]
  },
  {
   "cell_type": "code",
   "execution_count": 105,
   "id": "c25f4c57",
   "metadata": {},
   "outputs": [
    {
     "name": "stdout",
     "output_type": "stream",
     "text": [
      "'fox' found in the text from index 16 to 18.\n"
     ]
    }
   ],
   "source": [
    "import re\n",
    "\n",
    "def search_literal_and_find_location(text, word):\n",
    "    # Use re.search to find the word in the text\n",
    "    match = re.search(word, text)\n",
    "    \n",
    "    if match:\n",
    "        # If found, print the word and its location\n",
    "        start_index = match.start()\n",
    "        end_index = match.end()\n",
    "        print(f\"'{word}' found in the text from index {start_index} to {end_index-1}.\")\n",
    "    else:\n",
    "        print(f\"'{word}' not found in the text.\")\n",
    "\n",
    "# Example\n",
    "sample_text = 'The quick brown fox jumps over the lazy dog.'\n",
    "search_word = 'fox'\n",
    "\n",
    "search_literal_and_find_location(sample_text, search_word)\n"
   ]
  },
  {
   "cell_type": "code",
   "execution_count": null,
   "id": "49b178f7",
   "metadata": {},
   "outputs": [],
   "source": []
  },
  {
   "cell_type": "markdown",
   "id": "a9bf00be",
   "metadata": {},
   "source": [
    "### Question 17\n",
    "\n",
    "Write a Python program to find the substrings within a string.\n",
    "\n",
    "Sample text : `'Python exercises, PHP exercises, C# exercises'`\n",
    "Pattern : `'exercises'.`"
   ]
  },
  {
   "cell_type": "code",
   "execution_count": 106,
   "id": "2adad539",
   "metadata": {},
   "outputs": [
    {
     "name": "stdout",
     "output_type": "stream",
     "text": [
      "'exercises' found from index 7 to 15.\n",
      "'exercises' found from index 22 to 30.\n",
      "'exercises' found from index 36 to 44.\n"
     ]
    }
   ],
   "source": [
    "import re\n",
    "\n",
    "def find_substrings(text, pattern):\n",
    "    # Use list comprehension with re.finditer to find all occurrences\n",
    "    matches = [(match.start(), match.end()) for match in re.finditer(pattern, text)]\n",
    "    \n",
    "    for start, end in matches:\n",
    "        print(f\"'{pattern}' found from index {start} to {end-1}.\")\n",
    "\n",
    "# Example\n",
    "sample_text = 'Python exercises, PHP exercises, C# exercises'\n",
    "pattern = 'exercises'\n",
    "\n",
    "find_substrings(sample_text, pattern)\n"
   ]
  },
  {
   "cell_type": "code",
   "execution_count": null,
   "id": "80a176b0",
   "metadata": {},
   "outputs": [],
   "source": []
  },
  {
   "cell_type": "markdown",
   "id": "81d24fdc",
   "metadata": {},
   "source": [
    "### Question 18\n",
    "Write a Python program to find the occurrence and position of the substrings within a string.\n"
   ]
  },
  {
   "cell_type": "code",
   "execution_count": 107,
   "id": "b9a72bad",
   "metadata": {},
   "outputs": [
    {
     "name": "stdout",
     "output_type": "stream",
     "text": [
      "'exercises' found at index 7 to 15\n",
      "'exercises' found at index 22 to 30\n",
      "'exercises' found at index 36 to 44\n",
      "Total occurrences: 3\n"
     ]
    }
   ],
   "source": [
    "def find_occurrences(text, pattern):\n",
    "    start = 0\n",
    "    occurrences = 0\n",
    "    while True:\n",
    "        start = text.find(pattern, start)\n",
    "        if start == -1: \n",
    "            break\n",
    "        end = start + len(pattern)\n",
    "        print(f\"'{pattern}' found at index {start} to {end-1}\")\n",
    "        start += len(pattern)\n",
    "        occurrences += 1\n",
    "\n",
    "    print(f\"Total occurrences: {occurrences}\")\n",
    "\n",
    "# Example\n",
    "sample_text = 'Python exercises, PHP exercises, C# exercises'\n",
    "pattern = 'exercises'\n",
    "\n",
    "find_occurrences(sample_text, pattern)\n"
   ]
  },
  {
   "cell_type": "code",
   "execution_count": null,
   "id": "111c4489",
   "metadata": {},
   "outputs": [],
   "source": []
  },
  {
   "cell_type": "markdown",
   "id": "f54263c6",
   "metadata": {},
   "source": [
    "### Question 19 \n",
    "Write a Python program to convert a date of` yyyy-mm-dd format` to `dd-mm-yyyy format.`"
   ]
  },
  {
   "cell_type": "code",
   "execution_count": 109,
   "id": "5f668271",
   "metadata": {},
   "outputs": [
    {
     "name": "stdout",
     "output_type": "stream",
     "text": [
      "07-07-2024\n"
     ]
    }
   ],
   "source": [
    "def convert_date_format(date_str):\n",
    "    # Split the input date string by '-'\n",
    "    parts = date_str.split('-')\n",
    "    \n",
    "    # Reorder the parts to dd-mm-yyyy and join them with '-'\n",
    "    return f\"{parts[2]}-{parts[1]}-{parts[0]}\"\n",
    "\n",
    "# Example usage\n",
    "input_date = \"2024-07-07\"\n",
    "converted_date = convert_date_format(input_date)\n",
    "print(converted_date) \n"
   ]
  },
  {
   "cell_type": "code",
   "execution_count": null,
   "id": "fb66ebbf",
   "metadata": {},
   "outputs": [],
   "source": []
  },
  {
   "cell_type": "markdown",
   "id": "5677e142",
   "metadata": {},
   "source": [
    "### Question 20 \n",
    "Create a function in python to find all decimal numbers with a precision of 1 or 2 in a string. The use of the re.compile() method is mandatory.\n",
    "\n",
    "Sample Text: `\"01.12 0132.123 2.31875 145.8 3.01 27.25 0.25\"`\n",
    "\n",
    "Expected Output: `['01.12', '145.8', '3.01', '27.25', '0.25']`\n"
   ]
  },
  {
   "cell_type": "code",
   "execution_count": 110,
   "id": "e56c1826",
   "metadata": {},
   "outputs": [
    {
     "name": "stdout",
     "output_type": "stream",
     "text": [
      "['01.12', '145.8', '3.01', '27.25', '0.25']\n"
     ]
    }
   ],
   "source": [
    "import re\n",
    "\n",
    "def find_decimal_numbers(text):\n",
    "    # Compile a regular expression to match numbers with 1 or 2 decimal places\n",
    "    pattern = re.compile(r'\\b\\d+\\.\\d{1,2}\\b')\n",
    "    \n",
    "    # Find all matches in the text\n",
    "    matches = pattern.findall(text)\n",
    "    \n",
    "    return matches\n",
    "\n",
    "# Example\n",
    "sample_text = \"01.12 0132.123 2.31875 145.8 3.01 27.25 0.25\"\n",
    "decimal_numbers = find_decimal_numbers(sample_text)\n",
    "print(decimal_numbers)  # Output: ['01.12', '145.8', '3.01', '27.25', '0.25']\n"
   ]
  },
  {
   "cell_type": "code",
   "execution_count": null,
   "id": "4f4ea6ed",
   "metadata": {},
   "outputs": [],
   "source": []
  },
  {
   "cell_type": "markdown",
   "id": "1fd79079",
   "metadata": {},
   "source": [
    "### Question 21\n",
    "Write a Python program to separate and print the numbers and their position of a given string.\n"
   ]
  },
  {
   "cell_type": "code",
   "execution_count": 126,
   "id": "37d00551",
   "metadata": {},
   "outputs": [
    {
     "name": "stdout",
     "output_type": "stream",
     "text": [
      "Number: 23, Position: 21\n",
      "Number: 64, Position: 25\n",
      "Number: 80, Position: 33\n"
     ]
    }
   ],
   "source": [
    "import re\n",
    "\n",
    "def find_numbers_and_positions(text):\n",
    "    # Compile a regular expression to match numbers in the text\n",
    "    pattern = re.compile(r'\\d+')\n",
    "    \n",
    "    # Use finditer to get an iterator of match objects\n",
    "    matches = pattern.finditer(text)\n",
    "    \n",
    "    # Iterate over all matches and print the number and its position\n",
    "    for match in matches:\n",
    "        number = match.group(0)\n",
    "        start_index = match.start()\n",
    "        print(f\"Number: {number}, Position: {start_index}\")\n",
    "\n",
    "# Example\n",
    "sample_text = \"The room numbers are 23, 64, and 80.\"\n",
    "find_numbers_and_positions(sample_text)\n"
   ]
  },
  {
   "cell_type": "code",
   "execution_count": null,
   "id": "a40dcd7d",
   "metadata": {},
   "outputs": [],
   "source": []
  },
  {
   "cell_type": "markdown",
   "id": "f210db92",
   "metadata": {},
   "source": [
    "### Question 22\n",
    "Write a regular expression in python program to extract maximum/largest numeric value from a string.\n",
    "\n",
    "Sample Text:  `'My marks in each semester are: 947, 896, 926, 524, 734, 950, 642'`\n",
    "Expected Output: `950`"
   ]
  },
  {
   "cell_type": "code",
   "execution_count": 113,
   "id": "70da26cf",
   "metadata": {},
   "outputs": [
    {
     "name": "stdout",
     "output_type": "stream",
     "text": [
      "950\n"
     ]
    }
   ],
   "source": [
    "import re\n",
    "\n",
    "def extract_max_number(text):\n",
    "    # Compile the regular expression\n",
    "    pattern = re.compile(r'\\d+')\n",
    "    \n",
    "    # Initialize max_number\n",
    "    max_number = 0\n",
    "    \n",
    "    # Iterate over all matches\n",
    "    for match in pattern.finditer(text):\n",
    "        number = int(match.group(0))\n",
    "        if number > max_number:\n",
    "            max_number = number\n",
    "    \n",
    "    return max_number\n",
    "\n",
    "# Example in use\n",
    "sample_text = 'My marks in each semester are: 947, 896, 926, 524, 734, 950, 642'\n",
    "max_number = extract_max_number(sample_text)\n",
    "print(max_number)  \n"
   ]
  },
  {
   "cell_type": "code",
   "execution_count": null,
   "id": "9f2d2af8",
   "metadata": {},
   "outputs": [],
   "source": []
  },
  {
   "cell_type": "markdown",
   "id": "876a2a33",
   "metadata": {},
   "source": [
    "### Question 23\n",
    "Create a function in python to insert spaces between words starting with capital letters.\n",
    "\n",
    "Sample Text: `“RegularExpressionIsAnImportantTopicInPython\"`\n",
    "\n",
    "Expected Output: `Regular Expression Is An Important Topic In Python`"
   ]
  },
  {
   "cell_type": "code",
   "execution_count": 114,
   "id": "8b0ad718",
   "metadata": {},
   "outputs": [
    {
     "name": "stdout",
     "output_type": "stream",
     "text": [
      "Regular Expression Is An Important Topic In Python\n"
     ]
    }
   ],
   "source": [
    "import re\n",
    "\n",
    "def insert_spaces(text):\n",
    "    # Use re.sub to insert spaces before each capital letter (except the first one)\n",
    "    return re.sub(r'(?<!^)(?=[A-Z])', ' ', text)\n",
    "\n",
    "# Example\n",
    "sample_text = \"RegularExpressionIsAnImportantTopicInPython\"\n",
    "output = insert_spaces(sample_text)\n",
    "print(output) \n"
   ]
  },
  {
   "cell_type": "code",
   "execution_count": null,
   "id": "c65e74c6",
   "metadata": {},
   "outputs": [],
   "source": []
  },
  {
   "cell_type": "markdown",
   "id": "9d98ce04",
   "metadata": {},
   "source": [
    "### Question 24 \n",
    "Python regex to find sequences of one upper case letter followed by lower case letters\n"
   ]
  },
  {
   "cell_type": "code",
   "execution_count": 115,
   "id": "8d8f2c44",
   "metadata": {},
   "outputs": [
    {
     "name": "stdout",
     "output_type": "stream",
     "text": [
      "['This', 'Test', 'String', 'With', 'Some', 'Uppercase', 'Letters']\n"
     ]
    }
   ],
   "source": [
    "import re\n",
    "\n",
    "def find_uppercase_sequences(text):\n",
    "    # Regular expression to match one uppercase letter followed by lowercase letters\n",
    "    pattern = re.compile(r'[A-Z][a-z]+')\n",
    "    \n",
    "    # Use finditer to get an iterator of match objects\n",
    "    matches = pattern.finditer(text)\n",
    "    \n",
    "    # Extract the matched sequences\n",
    "    return [match.group(0) for match in matches]\n",
    "\n",
    "# Example\n",
    "sample_text = \"This is a Test String With Some UppercaseLetters.\"\n",
    "output = find_uppercase_sequences(sample_text)\n",
    "print(output)  \n"
   ]
  },
  {
   "cell_type": "code",
   "execution_count": null,
   "id": "51015bd8",
   "metadata": {},
   "outputs": [],
   "source": []
  },
  {
   "cell_type": "markdown",
   "id": "7332d5b6",
   "metadata": {},
   "source": [
    "### Question 25\n",
    "Write a Python program to remove continuous duplicate words from Sentence using Regular Expression.\n",
    "\n",
    "\n",
    "Sample Text: `\"Hello hello world world\"`\n",
    "\n",
    "Expected Output: `Hello hello world`"
   ]
  },
  {
   "cell_type": "code",
   "execution_count": 125,
   "id": "61f893fc",
   "metadata": {},
   "outputs": [
    {
     "name": "stdout",
     "output_type": "stream",
     "text": [
      "Hello hello world\n"
     ]
    }
   ],
   "source": [
    "import re\n",
    "\n",
    "def remove_duplicate_words(sentence):\n",
    "    # Regular expression pattern to find continuous duplicate words with the same case\n",
    "    pattern = re.compile(r'\\b(\\w+)\\s+\\1\\b')\n",
    "    \n",
    "    # Find all duplicate matches\n",
    "    duplicates = pattern.findall(sentence)\n",
    "    \n",
    "    # Manually replace each duplicate (case-sensitive)\n",
    "    for word in duplicates:\n",
    "        sentence = re.sub(r'\\b' + word + r'\\s+' + word + r'\\b', word, sentence)\n",
    "    \n",
    "    return sentence\n",
    "\n",
    "# Example \n",
    "sample_text = \"Hello hello world world\"\n",
    "output = remove_duplicate_words(sample_text)\n",
    "print(output)  \n"
   ]
  },
  {
   "cell_type": "markdown",
   "id": "7fdea60f",
   "metadata": {},
   "source": [
    "### Question 26\n",
    "Write a python program using RegEx to accept string ending with alphanumeric character.\n"
   ]
  },
  {
   "cell_type": "code",
   "execution_count": 117,
   "id": "e6b41111",
   "metadata": {},
   "outputs": [
    {
     "name": "stdout",
     "output_type": "stream",
     "text": [
      "True\n",
      "False\n"
     ]
    }
   ],
   "source": [
    "import re\n",
    "\n",
    "def ends_with_alphanumeric(text):\n",
    "    # Regular expression to ensure the string ends with an alphanumeric character\n",
    "    pattern = r'.*[a-zA-Z0-9]'\n",
    "    \n",
    "    # Check if the string fully matches the pattern\n",
    "    return bool(re.fullmatch(pattern, text))\n",
    "\n",
    "# Example\n",
    "sample_text1 = \"Python123\"\n",
    "sample_text2 = \"Python!\"\n",
    "\n",
    "print(ends_with_alphanumeric(sample_text1))  \n",
    "print(ends_with_alphanumeric(sample_text2))  "
   ]
  },
  {
   "cell_type": "code",
   "execution_count": null,
   "id": "992eaa52",
   "metadata": {},
   "outputs": [],
   "source": []
  },
  {
   "cell_type": "markdown",
   "id": "f80eb280",
   "metadata": {},
   "source": [
    "### Question 27\n",
    "Write a python program using RegEx to extract the hashtags.\n",
    "\n",
    "Sample Text: ` \"\"\"RT @kapil_kausik: #Doltiwal I mean #xyzabc is \"hurt\" by #Demonetization as the same has rendered USELESS <ed><U+00A0><U+00BD><ed><U+00B1><U+0089> \"acquired funds\" No wo\"\"\"`\n",
    "    \n",
    "Expected Output: `['#Doltiwal', '#xyzabc', '#Demonetization']`\n"
   ]
  },
  {
   "cell_type": "code",
   "execution_count": 118,
   "id": "8e8fe712",
   "metadata": {},
   "outputs": [
    {
     "name": "stdout",
     "output_type": "stream",
     "text": [
      "['#Doltiwal', '#xyzabc', '#Demonetization']\n"
     ]
    }
   ],
   "source": [
    "import re\n",
    "\n",
    "def extract_hashtags(text):\n",
    "    # Regular expression to match hashtags\n",
    "    pattern = re.compile(r'#\\w+')\n",
    "    \n",
    "    # Extract hashtags using a list comprehension\n",
    "    hashtags = [hashtag for hashtag in pattern.findall(text)]\n",
    "    \n",
    "    return hashtags\n",
    "\n",
    "# Example\n",
    "sample_text = \"\"\"RT @kapil_kausik: #Doltiwal I mean #xyzabc is \"hurt\" by #Demonetization as the same has rendered USELESS <ed><U+00A0><U+00BD><ed><U+00B1><U+0089> \"acquired funds\" No wo\"\"\"\n",
    "hashtags = extract_hashtags(sample_text)\n",
    "print(hashtags)  # Output: ['#Doltiwal', '#xyzabc', '#Demonetization']\n"
   ]
  },
  {
   "cell_type": "code",
   "execution_count": null,
   "id": "95312d58",
   "metadata": {},
   "outputs": [],
   "source": []
  },
  {
   "cell_type": "markdown",
   "id": "9b456f46",
   "metadata": {},
   "source": [
    "### Question 28\n",
    "Write a python program using RegEx to remove <U+..> like symbols\n",
    "\n",
    "Check the below sample text, there are strange symbols something of the sort <U+..> all over the place. You need to come up with a general Regex expression that will cover all such symbols.\n",
    "\n",
    "Sample Text: `\"@Jags123456 Bharat band on 28??<ed><U+00A0><U+00BD><ed><U+00B8><U+0082>Those who  are protesting #demonetization  are all different party leaders\"`\n",
    "\n",
    "Expected Output: `@Jags123456 Bharat band on 28??<ed><ed>Those who  are protesting #demonetization  are all different party leaders`\n"
   ]
  },
  {
   "cell_type": "code",
   "execution_count": 124,
   "id": "7f4893e3",
   "metadata": {},
   "outputs": [
    {
     "name": "stdout",
     "output_type": "stream",
     "text": [
      "@Jags123456 Bharat band on 28??<ed><ed>Those who  are protesting #demonetization  are all different party leaders\n"
     ]
    }
   ],
   "source": [
    "import re\n",
    "\n",
    "def remove_symbols_of_unicode(text):\n",
    "    # Regular expression to match any <...> symbol starting with <U+>\n",
    "    pattern = re.compile(r'<U\\+[^>]+>')\n",
    "    \n",
    "    # Substitute the matched patterns with an empty string\n",
    "    cleaned_text = re.sub(pattern, '', text)\n",
    "    \n",
    "    return cleaned_text\n",
    "\n",
    "# Example\n",
    "sample_text = \"@Jags123456 Bharat band on 28??<ed><U+00A0><U+00BD><ed><U+00B8><U+0082>Those who  are protesting #demonetization  are all different party leaders\"\n",
    "output = remove_symbols_of_unicode(sample_text)\n",
    "print(output)\n"
   ]
  },
  {
   "cell_type": "code",
   "execution_count": null,
   "id": "edf6a979",
   "metadata": {},
   "outputs": [],
   "source": []
  },
  {
   "cell_type": "markdown",
   "id": "3b12771a",
   "metadata": {},
   "source": [
    "### Question 29\n",
    "Write a python program to extract dates from the text stored in the text file.\n",
    "\n",
    "Sample Text: `Ron was born on 12-09-1992 and he was admitted to school 15-12-1999.`\n",
    "\n",
    "**Note:** Store this sample text in the file and then extract dates."
   ]
  },
  {
   "cell_type": "code",
   "execution_count": 120,
   "id": "e6cae146",
   "metadata": {},
   "outputs": [
    {
     "name": "stdout",
     "output_type": "stream",
     "text": [
      "['12-09-1992', '15-12-1999']\n"
     ]
    }
   ],
   "source": [
    "import re\n",
    "\n",
    "def extract_dates(file_path):\n",
    "    # Open the file and read its content\n",
    "    with open(file_path, 'r') as file:\n",
    "        text = file.read()\n",
    "\n",
    "    # Regular expression to match dates in dd-mm-yyyy format\n",
    "    pattern = r'\\b\\d{2}-\\d{2}-\\d{4}\\b'\n",
    "    \n",
    "    # Find all dates in the text\n",
    "    dates = re.findall(pattern, text)\n",
    "    \n",
    "    return dates\n",
    "\n",
    "# Example \n",
    "file_path = 'sample_text.txt'\n",
    "sample_text = \"Ron was born on 12-09-1992 and he was admitted to school 15-12-1999.\"\n",
    "with open(file_path, 'w') as f:\n",
    "    f.write(sample_text)\n",
    "\n",
    "extracted_dates = extract_dates(file_path)\n",
    "print(extracted_dates)  # Output: ['12-09-1992', '15-12-1999']\n"
   ]
  },
  {
   "cell_type": "code",
   "execution_count": null,
   "id": "0072e2f9",
   "metadata": {},
   "outputs": [],
   "source": []
  },
  {
   "cell_type": "markdown",
   "id": "c399456c",
   "metadata": {},
   "source": [
    "### Question 30\n",
    "Create a function in python to remove all words from a string of length between 2 and 4.\n",
    "The use of the re.compile() method is mandatory.\n",
    "\n",
    "Sample Text: `\"The following example creates an ArrayList with a capacity of 50 elements. 4 elements are then added to the ArrayList and the ArrayList is trimmed accordingly.\"`\n",
    "\n",
    "Expected Output:  `following example creates ArrayList a capacity elements. 4 elements added ArrayList ArrayList trimmed accordingly.`\n",
    "\n"
   ]
  },
  {
   "cell_type": "code",
   "execution_count": 123,
   "id": "0f1beb66",
   "metadata": {},
   "outputs": [
    {
     "name": "stdout",
     "output_type": "stream",
     "text": [
      "following example creates ArrayList a capacity elements. 4 elements added ArrayList ArrayList trimmed accordingly.\n"
     ]
    }
   ],
   "source": [
    "import re\n",
    "\n",
    "def remove_words(text):\n",
    "    # Compile the regular expression to match words of length between 2 and 4\n",
    "    pattern = re.compile(r'\\b\\w{2,4}\\b')\n",
    "    \n",
    "    # Use re.sub to remove the matched words\n",
    "    result = re.sub(pattern, '', text)\n",
    "    \n",
    "    # Remove extra spaces that might have been left\n",
    "    return ' '.join(result.split())\n",
    "\n",
    "# Example in use\n",
    "sample_text = \"The following example creates an ArrayList with a capacity of 50 elements. 4 elements are then added to the ArrayList and the ArrayList is trimmed accordingly.\"\n",
    "output = remove_words(sample_text)\n",
    "print(output)\n"
   ]
  },
  {
   "cell_type": "code",
   "execution_count": null,
   "id": "b45f094b",
   "metadata": {},
   "outputs": [],
   "source": []
  }
 ],
 "metadata": {
  "kernelspec": {
   "display_name": "Python 3 (ipykernel)",
   "language": "python",
   "name": "python3"
  },
  "language_info": {
   "codemirror_mode": {
    "name": "ipython",
    "version": 3
   },
   "file_extension": ".py",
   "mimetype": "text/x-python",
   "name": "python",
   "nbconvert_exporter": "python",
   "pygments_lexer": "ipython3",
   "version": "3.11.5"
  }
 },
 "nbformat": 4,
 "nbformat_minor": 5
}
